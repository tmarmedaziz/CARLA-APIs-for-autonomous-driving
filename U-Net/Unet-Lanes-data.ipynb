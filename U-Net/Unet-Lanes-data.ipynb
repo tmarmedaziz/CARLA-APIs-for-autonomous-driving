{
 "cells": [
  {
   "cell_type": "markdown",
   "id": "3f18bcb3",
   "metadata": {},
   "source": [
    "**Importing libraries**"
   ]
  },
  {
   "cell_type": "code",
   "execution_count": 1,
   "id": "0c71752a",
   "metadata": {},
   "outputs": [],
   "source": [
    "import json\n",
    "import glob\n",
    "import pandas as pd\n",
    "import os\n",
    "import shutil\n",
    "import cv2\n",
    "import numpy as np\n",
    "from matplotlib import pyplot as plt"
   ]
  },
  {
   "cell_type": "markdown",
   "id": "082435d6",
   "metadata": {},
   "source": [
    "**Fetch labels file**"
   ]
  },
  {
   "cell_type": "code",
   "execution_count": null,
   "id": "64b08711",
   "metadata": {},
   "outputs": [],
   "source": [
    "json_file_path = r\"C:\\Users\\moham\\Carla\\archive\\bdd100k_labels_release\\bdd100k\\labels\""
   ]
  },
  {
   "cell_type": "code",
   "execution_count": 11,
   "id": "85a11e7d",
   "metadata": {},
   "outputs": [],
   "source": [
    "labels_files_name = glob.glob(json_file_path)"
   ]
  },
  {
   "cell_type": "code",
   "execution_count": 13,
   "id": "31656e9b",
   "metadata": {},
   "outputs": [],
   "source": [
    "f = open(labels_files_name[0])\n",
    "data = json.load(f)"
   ]
  },
  {
   "cell_type": "markdown",
   "id": "bb2644f2",
   "metadata": {},
   "source": [
    "**Extract data from the json files**"
   ]
  },
  {
   "cell_type": "code",
   "execution_count": 30,
   "id": "69bf287f",
   "metadata": {},
   "outputs": [],
   "source": [
    "def data_from_json_file(file_name):\n",
    "  info_dict = {}\n",
    "  f = open(file_name)\n",
    "  data = json.load(f)\n",
    "  for j in data:\n",
    "    for i in j.keys() :\n",
    "      if i == 'name':\n",
    "        info_dict[j['name']] = {'bboxes':[]}\n",
    "        # img = cv2.imread('/content/drive/MyDrive/P2M/Data/bdd100k/images/track/'+j['name'][:17]+'/'+j['name'])\n",
    "        # info_dict[j['name']]['size'] = img.shape\n",
    "      elif i == 'labels':\n",
    "        for k in j[i]:\n",
    "          bbox = {}\n",
    "          for l in k.keys() :\n",
    "            if l == 'category':\n",
    "              bbox['class'] = k['category']\n",
    "            elif l == 'box2d':\n",
    "              bbox['box2d'] = k[l]\n",
    "            elif l == 'poly2d':\n",
    "              bbox['poly2d'] = k[l][0]['vertices']\n",
    "          info_dict[j['name']]['bboxes'].append(bbox)\n",
    "  f.close()\n",
    "  return info_dict"
   ]
  },
  {
   "cell_type": "code",
   "execution_count": 31,
   "id": "29b8bee6",
   "metadata": {},
   "outputs": [],
   "source": [
    "info_dict = {}\n",
    "info_dict = data_from_json_file(labels_files_name[0])"
   ]
  },
  {
   "cell_type": "code",
   "execution_count": 38,
   "id": "6bca1e09",
   "metadata": {},
   "outputs": [],
   "source": [
    "info_dict1 = {}\n",
    "info_dict1 = data_from_json_file(labels_files_name[1])"
   ]
  },
  {
   "cell_type": "code",
   "execution_count": 235,
   "id": "00e12518",
   "metadata": {},
   "outputs": [],
   "source": [
    "#Taking a sample of 4000 pictures\n",
    "dataset_subset = {key: info_dict[key] for count, key in enumerate(info_dict.keys()) if count < 4000}"
   ]
  },
  {
   "cell_type": "code",
   "execution_count": 236,
   "id": "d6771e13",
   "metadata": {},
   "outputs": [],
   "source": [
    "#Taking a Validation set of 1000 pictures\n",
    "dataset_subset_val = {key: info_dict[key] for count, key in enumerate(info_dict.keys()) if count > 4000 and count < 5001}"
   ]
  },
  {
   "cell_type": "code",
   "execution_count": 237,
   "id": "07a20149",
   "metadata": {},
   "outputs": [],
   "source": [
    "#Saving caracteristics to json file\n",
    "with open(\"dataset_subset_val.json\", \"w\") as outfile:\n",
    "    json.dump(dataset_subset_val, outfile)"
   ]
  },
  {
   "cell_type": "code",
   "execution_count": 246,
   "id": "db52fc0f",
   "metadata": {},
   "outputs": [
    {
     "data": {
      "text/plain": [
       "4000"
      ]
     },
     "execution_count": 246,
     "metadata": {},
     "output_type": "execute_result"
    }
   ],
   "source": [
    "len(dataset_subset.keys())"
   ]
  },
  {
   "cell_type": "code",
   "execution_count": 244,
   "id": "fd057994",
   "metadata": {},
   "outputs": [],
   "source": [
    "# destination path\n",
    "directory = \"Unet_test_on_data_val\"\n",
    "os.mkdir(directory)\n",
    "dest = directory+\"/\"\n",
    "images_path = r\"C:\\Users\\moham\\Carla\\archive\\archive\\bdd100k\\bdd100k\\images\\100k\\train/\"\n",
    "for image_name in dataset_subset_val.keys():\n",
    "\n",
    "    shutil.copyfile(images_path+image_name, dest+image_name)"
   ]
  },
  {
   "cell_type": "code",
   "execution_count": 123,
   "id": "7fe33f47",
   "metadata": {},
   "outputs": [],
   "source": [
    "def convert_list_to_int_list(li):\n",
    "\n",
    "  lisout = []\n",
    "  for i in li:\n",
    "    lisin = []\n",
    "    for j in i:\n",
    "      lisin.append(int(j))\n",
    "    lisout.append(lisin)\n",
    "  return lisout"
   ]
  },
  {
   "cell_type": "code",
   "execution_count": 245,
   "id": "a32aa2f6",
   "metadata": {},
   "outputs": [],
   "source": [
    "# Making the Mask\n",
    "directory = \"Unet_test_on_data_val-labels\"\n",
    "try:\n",
    "    os.mkdir(directory)\n",
    "except:\n",
    "    pass\n",
    "path = \"Unet_test_on_data_val/\"\n",
    "dest = \"Unet_test_on_data_val-labels/\"\n",
    "for image_name in dataset_subset_val.keys():\n",
    "    img = cv2.imread(path+image_name)\n",
    "\n",
    "    img = cv2.cvtColor(img, cv2.COLOR_BGR2RGB)\n",
    "    label = np.zeros(img.shape[:2])\n",
    "    for i in dataset_subset_val[image_name]['bboxes']:\n",
    "        if i['class'] == 'drivable area' :\n",
    "            cv2.fillPoly(label, pts=[np.array(convert_list_to_int_list(i['poly2d']))], color=(255, 255, 255))\n",
    "    cv2.imwrite(dest+image_name, label)"
   ]
  },
  {
   "cell_type": "code",
   "execution_count": 247,
   "id": "c3a97389",
   "metadata": {
    "scrolled": false
   },
   "outputs": [],
   "source": [
    "#Saving validation to json file\n",
    "with open(\"dataset_subset.json\", \"w\") as outfile:\n",
    "    json.dump(dataset_subset, outfile)"
   ]
  },
  {
   "cell_type": "code",
   "execution_count": 253,
   "id": "d28a32dc",
   "metadata": {},
   "outputs": [],
   "source": [
    "#Loading caracteristics to json file\n",
    "with open('dataset_subset.json') as json_file:\n",
    "    data = json.load(json_file)"
   ]
  },
  {
   "cell_type": "code",
   "execution_count": 248,
   "id": "0890f213",
   "metadata": {},
   "outputs": [],
   "source": [
    "directory = \"Unet_test_on_data\"\n",
    "os.mkdir(directory)"
   ]
  },
  {
   "cell_type": "code",
   "execution_count": 249,
   "id": "7676b790",
   "metadata": {},
   "outputs": [],
   "source": [
    "images_files_name = glob.glob(\"archive/bdd100k/bdd100k/images/100k/train/*.jpg\") "
   ]
  },
  {
   "cell_type": "code",
   "execution_count": 250,
   "id": "f1e2ef61",
   "metadata": {},
   "outputs": [],
   "source": [
    "images_files_name = [h[-21:] for h in images_files_name]"
   ]
  },
  {
   "cell_type": "code",
   "execution_count": 251,
   "id": "7c88dc46",
   "metadata": {
    "collapsed": true
   },
   "outputs": [
    {
     "ename": "AttributeError",
     "evalue": "'Data' object has no attribute 'keys'",
     "output_type": "error",
     "traceback": [
      "\u001b[1;31m---------------------------------------------------------------------------\u001b[0m",
      "\u001b[1;31mAttributeError\u001b[0m                            Traceback (most recent call last)",
      "\u001b[1;32m~\\AppData\\Local\\Temp/ipykernel_17504/1443010566.py\u001b[0m in \u001b[0;36m<module>\u001b[1;34m\u001b[0m\n\u001b[1;32m----> 1\u001b[1;33m \u001b[0mcheck\u001b[0m \u001b[1;33m=\u001b[0m  \u001b[0mall\u001b[0m\u001b[1;33m(\u001b[0m\u001b[0mitem\u001b[0m \u001b[1;32min\u001b[0m \u001b[0mimages_files_name\u001b[0m \u001b[1;32mfor\u001b[0m \u001b[0mitem\u001b[0m \u001b[1;32min\u001b[0m \u001b[0mdata\u001b[0m\u001b[1;33m.\u001b[0m\u001b[0mkeys\u001b[0m\u001b[1;33m(\u001b[0m\u001b[1;33m)\u001b[0m\u001b[1;33m)\u001b[0m\u001b[1;33m\u001b[0m\u001b[1;33m\u001b[0m\u001b[0m\n\u001b[0m",
      "\u001b[1;31mAttributeError\u001b[0m: 'Data' object has no attribute 'keys'"
     ]
    }
   ],
   "source": [
    "check =  all(item in images_files_name for item in data.keys())"
   ]
  },
  {
   "cell_type": "markdown",
   "id": "1d8b4601",
   "metadata": {},
   "source": [
    "Copying desired data to the folder"
   ]
  },
  {
   "cell_type": "code",
   "execution_count": 254,
   "id": "3c71d5a0",
   "metadata": {},
   "outputs": [],
   "source": [
    "dest = \"Unet_test_on_data/\"\n",
    "path = \"archive/bdd100k/bdd100k/images/100k/train/\"\n",
    "for image_name in data.keys():\n",
    "    shutil.copyfile(path+image_name, dest+image_name)"
   ]
  },
  {
   "cell_type": "code",
   "execution_count": 255,
   "id": "1619aeb2",
   "metadata": {},
   "outputs": [],
   "source": [
    "directory = \"Unet_test_on_data-labels\"\n",
    "os.mkdir(directory)"
   ]
  },
  {
   "cell_type": "code",
   "execution_count": 256,
   "id": "c29f39b1",
   "metadata": {},
   "outputs": [],
   "source": [
    "path = \"Unet_test_on_data/\"\n",
    "dest = \"Unet_test_on_data-labels/\"\n",
    "for image_name in data.keys():\n",
    "    img = cv2.imread(path+image_name)\n",
    "\n",
    "    img = cv2.cvtColor(img, cv2.COLOR_BGR2RGB)\n",
    "    label = np.zeros(img.shape[:2])\n",
    "    for i in data[image_name]['bboxes']:\n",
    "        if i['class'] == 'drivable area' :\n",
    "            cv2.fillPoly(label, pts=[np.array(convert_list_to_int_list(i['poly2d']))], color=(255, 255, 255))\n",
    "    cv2.imwrite(dest+image_name, label)"
   ]
  },
  {
   "cell_type": "code",
   "execution_count": 257,
   "id": "b9ad0bc3",
   "metadata": {},
   "outputs": [
    {
     "data": {
      "text/plain": [
       "<function matplotlib.pyplot.show(close=None, block=None)>"
      ]
     },
     "execution_count": 257,
     "metadata": {},
     "output_type": "execute_result"
    },
    {
     "data": {
      "image/png": "[encoded data removed]",
      "text/plain": [
       "<Figure size 432x288 with 1 Axes>"
      ]
     },
     "metadata": {
      "needs_background": "light"
     },
     "output_type": "display_data"
    }
   ],
   "source": [
    "img = cv2.imread(dest+list(data.keys())[5])\n",
    "\n",
    "img = cv2.cvtColor(img, cv2.COLOR_BGR2RGB)\n",
    "label = np.zeros(img.shape[:2])\n",
    "for i in data[list(data.keys())[5]]['bboxes']:\n",
    "    if i['class'] == 'drivable area' :\n",
    "        cv2.fillPoly(label, pts=[np.array(convert_list_to_int_list(i['poly2d']))], color=(255, 255, 255))\n",
    "cv2.imwrite('hey.jpg', label)\n",
    "plt.imshow(label)\n",
    "plt.show\n"
   ]
  },
  {
   "cell_type": "code",
   "execution_count": 258,
   "id": "38571d28",
   "metadata": {
    "scrolled": true
   },
   "outputs": [
    {
     "data": {
      "text/plain": [
       "<function matplotlib.pyplot.show(close=None, block=None)>"
      ]
     },
     "execution_count": 258,
     "metadata": {},
     "output_type": "execute_result"
    },
    {
     "data": {
      "image/png": "[encoded data removed]",
      "text/plain": [
       "<Figure size 432x288 with 1 Axes>"
      ]
     },
     "metadata": {
      "needs_background": "light"
     },
     "output_type": "display_data"
    }
   ],
   "source": [
    "plt.imshow(train_labels[0])\n",
    "plt.show"
   ]
  },
  {
   "cell_type": "code",
   "execution_count": 216,
   "id": "d4cccbf9",
   "metadata": {},
   "outputs": [],
   "source": [
    "class Data():\n",
    "    def __init__(self):\n",
    "        self.X_train = []\n",
    "        self.Y_train = []\n",
    "        self.train_path = \"Unet_test_on_data/\"\n",
    "        self.labels_path = \"Unet_test_on_data-labels/\"\n",
    "    \n",
    "    def process_img(self, img_path, img_size, train = True):\n",
    "        img = cv2.imread(img_path)\n",
    "        img = cv2.resize(img, (img_size,img_size))\n",
    "        \n",
    "        img = cv2.cvtColor(img, cv2.COLOR_BGR2GRAY)\n",
    "        if train:\n",
    "            self.X_train.append(img/np.max(img))\n",
    "        else:\n",
    "            self.Y_train.append(img/np.max(img))\n",
    "            \n",
    "        \n",
    "    def process_images_train(self, img_size):\n",
    "        for image_path in glob.glob(self.train_path+\"*.jpg\"):\n",
    "            self.process_img(image_path, img_size)\n",
    "            \n",
    "    def process_images_labels(self, img_size):\n",
    "        for image_path in glob.glob(self.labels_path+\"*.jpg\"):\n",
    "            self.process_img(image_path, img_size, train = False)\n",
    "    \n",
    "    def data(self):\n",
    "        updated_X_train = np.array(self.X_train).reshape(int(np.array(self.X_train).ravel().shape[0])//128//128,128,128,1).astype('float64')\n",
    "        updated_Y_train = np.array(self.Y_train).reshape(int(np.array(self.Y_train).ravel().shape[0])//128//128,128,128,1).astype('float64')\n",
    "        return updated_X_train, updated_Y_train"
   ]
  },
  {
   "cell_type": "code",
   "execution_count": 217,
   "id": "f7a5523d",
   "metadata": {},
   "outputs": [
    {
     "name": "stderr",
     "output_type": "stream",
     "text": [
      "C:\\Users\\moham\\AppData\\Local\\Temp/ipykernel_17504/2252622949.py:16: RuntimeWarning: invalid value encountered in true_divide\n",
      "  self.Y_train.append(img/np.max(img))\n"
     ]
    }
   ],
   "source": [
    "data = Data()\n",
    "data.process_images_train(128)\n",
    "data.process_images_labels(128)\n",
    "updated_X_train, updated_Y_train = data.data()"
   ]
  }
 ],
 "metadata": {
  "kernelspec": {
   "display_name": "Python 3 (ipykernel)",
   "language": "python",
   "name": "python3"
  },
  "language_info": {
   "codemirror_mode": {
    "name": "ipython",
    "version": 3
   },
   "file_extension": ".py",
   "mimetype": "text/x-python",
   "name": "python",
   "nbconvert_exporter": "python",
   "pygments_lexer": "ipython3",
   "version": "3.9.7"
  }
 },
 "nbformat": 4,
 "nbformat_minor": 5
}
